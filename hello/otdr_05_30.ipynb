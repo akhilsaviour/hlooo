{
 "cells": [
  {
   "cell_type": "code",
   "execution_count": null,
   "id": "194f2aba",
   "metadata": {},
   "outputs": [],
   "source": [
    "import time\n",
    "import numpy as np\n",
    "from matplotlib import pyplot as plt\n",
    "from rp_overlay import overlay\n",
    "import rp\n",
    "import inspect\n",
    "\n",
    "fpga = overlay()\n",
    "rp.rp_Init()\n"
   ]
  },
  {
   "cell_type": "markdown",
   "id": "39431ef8",
   "metadata": {},
   "source": [
    "DEF FUNCS"
   ]
  },
  {
   "cell_type": "code",
   "execution_count": null,
   "id": "f63bd28c",
   "metadata": {},
   "outputs": [],
   "source": [
    "def generate_single_pulse_wave( dcyc=1,Ampl=1):\n",
    "    BUFFER_SIZE = 16384 \n",
    "    t = np.linspace(0, 1, BUFFER_SIZE, endpoint=False)    \n",
    "    period = 1 \n",
    "    pulse_width = dcyc * period  \n",
    "    waveform = np.where(t < pulse_width, Ampl, 0.0)  \n",
    "    return  waveform\n",
    "\n",
    "def gen_sine(Ampl=1):\n",
    "    BUFFER_SIZE = 16384 \n",
    "    t=np.linspace(0,np.pi,BUFFER_SIZE)\n",
    "    ss=Ampl*np.sin(t)\n",
    "    return ss"
   ]
  },
  {
   "cell_type": "markdown",
   "id": "4398536c",
   "metadata": {},
   "source": [
    "DEFINE PARAMS"
   ]
  },
  {
   "cell_type": "code",
   "execution_count": null,
   "id": "3dc7dfde",
   "metadata": {},
   "outputs": [],
   "source": [
    "channel = rp.RP_CH_1        \n",
    "waveform = rp.RP_WAVEFORM_SQUARE\n",
    "\n",
    "freq=1e6\n",
    "d=2\n",
    "dec=2**d\n",
    "#dec = rp.RP_DEC_8\n",
    "duty=0.5\n",
    "Amp=1\n",
    "\n",
    "ncyc = 1\n",
    "nor = 1\n",
    "period =100\n",
    "gen_trig_sour = rp.RP_GEN_TRIG_SRC_INTERNAL\n",
    "\n",
    "trig_lvl = 0.1\n",
    "trig_dly = 8000\n",
    "acq_trig_sour = rp.RP_TRIG_SRC_CHA_PE\n",
    "N = 16384"
   ]
  },
  {
   "cell_type": "code",
   "execution_count": null,
   "id": "de5906c8",
   "metadata": {},
   "outputs": [],
   "source": [
    "def walsh(freq,duty,dec=0,Amp=1,ncyc=1,nor=1,period=1,trig_lvl=0.1,trig_dly=8000):\n",
    "    \n",
    "    rp.rp_GenReset()\n",
    "    rp.rp_AcqReset()\n",
    "\n",
    "    wave_form=generate_single_pulse_wave(dcyc=duty,Ampl=Amp) \n",
    "    wave_array=np.array(wave_form,dtype=np.float32) \n",
    "\n",
    "    rp.rp_GenWaveform(channel, rp.RP_WAVEFORM_ARBITRARY)\n",
    "    rp.rp_GenArbWaveformNP(channel, wave_array)\n",
    "    rp.rp_GenFreqDirect(channel,freq)\n",
    "\n",
    "    rp.rp_GenMode(channel, rp.RP_GEN_MODE_BURST)\n",
    "    rp.rp_GenBurstCount(channel, ncyc)                 \n",
    "    rp.rp_GenBurstRepetitions(channel, nor)             \n",
    "    rp.rp_GenBurstPeriod(channel, period)\n",
    "\n",
    "    rp.rp_GenTriggerSource(channel, gen_trig_sour)\n",
    "    rp.rp_GenOutEnableSync(True)\n",
    "\n",
    "\n",
    "    ##### Acquisition #####\n",
    "\n",
    "    rp.rp_AcqSetDecimation(dec)\n",
    "    rp.rp_AcqSetTriggerLevel(rp.RP_CH_1, trig_lvl)\n",
    "    rp.rp_AcqSetTriggerDelay(trig_dly)\n",
    "\n",
    "    rp.rp_AcqStart()\n",
    "\n",
    "    rp.rp_AcqSetTriggerSrc(acq_trig_sour)   \n",
    "    rp.rp_GenTriggerOnly(channel)      \n",
    "    while 1:\n",
    "        trig_state = rp.rp_AcqGetTriggerState()[1]\n",
    "        if trig_state == rp.RP_TRIG_STATE_TRIGGERED:\n",
    "            break\n",
    "    while 1:\n",
    "        if rp.rp_AcqGetBufferFillState()[1]:\n",
    "            break\n",
    "\n",
    "    fbuff = rp.fBuffer(N)\n",
    "    res = rp.rp_AcqGetOldestDataV(rp.RP_CH_1, N, fbuff)[1]\n",
    "    data_V = np.zeros(N, dtype = float)\n",
    "\n",
    "    for i in range(0, N, 1):\n",
    "        data_V[i] = fbuff[i]\n",
    "    return data_V\n",
    "    "
   ]
  },
  {
   "cell_type": "code",
   "execution_count": null,
   "id": "2467aeb4",
   "metadata": {},
   "outputs": [],
   "source": [
    "b=np.linspace(1,80,10)\n",
    "c=np.multiply(b,1e6)"
   ]
  },
  {
   "cell_type": "code",
   "execution_count": null,
   "id": "25db9acb",
   "metadata": {},
   "outputs": [],
   "source": [
    "f_amps=[]\n",
    "for f in c:\n",
    "    data_V=walsh(f,duty,dec,Amp)\n",
    "    maxx=max(data_V)\n",
    "    minn=min(data_V)\n",
    "    Vpp=(maxx-minn)\n",
    "    f_amps.append(Vpp)\n",
    "\n",
    "print('done')"
   ]
  },
  {
   "cell_type": "code",
   "execution_count": null,
   "id": "3b305231",
   "metadata": {},
   "outputs": [],
   "source": [
    "\n",
    "tt= ((16384*dec)/250e6)* 1e6   # Time Frame; 64 micro s for dec=0 \n",
    "x_ax=np.linspace(0,tt,len(data_V))\n",
    "\n",
    "x_axx=x_ax[190:6000]\n",
    "data_1=data_V[190:6000]\n",
    "\n",
    "plt.plot(x_axx,data_1, label=f'Freq = {freq/1e6} MHz')\n",
    "plt.xlabel('Time (microseconds)')\n",
    "plt.ylabel('Amplitude')\n",
    "plt.grid(True)\n",
    "plt.legend()\n",
    "plt.show()\n"
   ]
  },
  {
   "cell_type": "code",
   "execution_count": null,
   "id": "b5e87d66",
   "metadata": {},
   "outputs": [],
   "source": [
    "t_frame=x_axx\n",
    "signal = data_1\n",
    "\n",
    "signal_norm = (signal - np.min(signal)) / (np.max(signal) - np.min(signal))\n",
    "t10_index = np.where(signal_norm >= 0.1)[0][0]\n",
    "t90_index = np.where(signal_norm >= 0.9)[0][0]\n",
    "rise_time = t_frame[t90_index] - t_frame[t10_index]\n",
    "print(f\"rise_time: {rise_time:.2e} microsec\")"
   ]
  },
  {
   "cell_type": "markdown",
   "id": "1907d41b",
   "metadata": {},
   "source": [
    "pulse width"
   ]
  },
  {
   "cell_type": "code",
   "execution_count": null,
   "id": "fc1c192e",
   "metadata": {},
   "outputs": [],
   "source": [
    "f_arr=[]\n",
    "sig=abs(signal)\n",
    "\n",
    "rise_threshold = 0.05\n",
    "fall_threshold = 0.05\n",
    "rising_edges = np.where((signal[:-1] < rise_threshold) & (signal[1:] >= rise_threshold))[0]\n",
    "falling_edges=np.where((sig[1:] <= fall_threshold) & (sig[:-1] > fall_threshold))[0]\n",
    "\n",
    "rise_times = t_frame[rising_edges]\n",
    "fall_times=t_frame[falling_edges]\n",
    "periods = abs(rise_times-fall_times)   # Time between successive rising edges\n",
    "freq_p=duty/(periods)\n",
    "print(freq_p)\n",
    "mean_freq=np.mean(freq_p)\n",
    "f_arr.append(mean_freq)"
   ]
  },
  {
   "cell_type": "code",
   "execution_count": null,
   "id": "8f29dc53",
   "metadata": {},
   "outputs": [],
   "source": []
  }
 ],
 "metadata": {
  "language_info": {
   "name": "python"
  }
 },
 "nbformat": 4,
 "nbformat_minor": 5
}
